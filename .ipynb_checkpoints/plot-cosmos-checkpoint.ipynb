{
 "cells": [
  {
   "cell_type": "code",
   "execution_count": 1,
   "metadata": {},
   "outputs": [],
   "source": [
    "import os\n",
    "import time \n",
    "import numpy as np \n",
    "import torch\n",
    "import torch.optim as optim\n",
    "import random\n",
    "from torch.utils import data\n",
    "from loader.COSMOS_data_loader import COSMOS_data_loader\n",
    "from models.unet import Unet\n",
    "from models.VAE import VAE\n",
    "from utils.train import *\n",
    "from utils.medi import *\n",
    "from utils.data import *\n",
    "from utils.files import *"
   ]
  },
  {
   "cell_type": "code",
   "execution_count": 2,
   "metadata": {},
   "outputs": [],
   "source": [
    "os.environ['CUDA_VISIBLE_DEVICES'] = '2'\n",
    "device = torch.device('cuda' if torch.cuda.is_available() else 'cpu')\n",
    "rootDir = '/data/Jinwei/Bayesian_QSM/weight'"
   ]
  },
  {
   "cell_type": "code",
   "execution_count": 3,
   "metadata": {},
   "outputs": [],
   "source": [
    "# patchSize = (64, 64, 32)\n",
    "patchSize = (128, 128, 32)\n",
    "extraction_step = (42, 42, 6)\n",
    "voxel_size = (1, 1, 3)\n",
    "latent_dim = 60\n",
    "flag_smv = 1\n",
    "flag_gen = 1\n",
    "trans = 0.4  # 0.15 for PDI\n",
    "scale = 3"
   ]
  },
  {
   "cell_type": "code",
   "execution_count": null,
   "metadata": {},
   "outputs": [
    {
     "name": "stdout",
     "output_type": "stream",
     "text": [
      "Using SMV Filtering\n",
      "Generate RDF from COSMOS data\n",
      "Processing case: 6\n",
      "    Direction: 0\n",
      "    Direction: 1\n"
     ]
    }
   ],
   "source": [
    "dataLoader = COSMOS_data_loader(\n",
    "    split='Val',\n",
    "    patchSize=patchSize,\n",
    "    extraction_step=extraction_step,\n",
    "    voxel_size=voxel_size,\n",
    "    case_validation=6,\n",
    "    case_test=7,\n",
    "    flag_smv=flag_smv,\n",
    "    flag_gen=flag_gen\n",
    ")"
   ]
  },
  {
   "cell_type": "code",
   "execution_count": null,
   "metadata": {},
   "outputs": [],
   "source": [
    "testLoader = data.DataLoader(dataLoader, batch_size=16, shuffle=False)"
   ]
  },
  {
   "cell_type": "code",
   "execution_count": null,
   "metadata": {
    "scrolled": true
   },
   "outputs": [],
   "source": [
    "vae3d = VAE(\n",
    "    input_channels=1, \n",
    "    output_channels=2,\n",
    "    latent_dim=2000,\n",
    "    use_deconv=1,\n",
    "    renorm=1,\n",
    "    flag_r_train=0\n",
    ")\n",
    "vae3d.to(device)\n",
    "print(vae3d)\n",
    "vae3d.load_state_dict(torch.load('/data/Jinwei/Bayesian_QSM/weight_cv/weights_vae=-2_validation=6_test=7.pt'))"
   ]
  },
  {
   "cell_type": "code",
   "execution_count": null,
   "metadata": {},
   "outputs": [],
   "source": [
    "# patches_means, patches_stds = [], []\n",
    "qsm_min = 0\n",
    "vae3d.eval()\n",
    "with torch.no_grad():\n",
    "    for idx, (rdfs, masks_tensor, weights, qsms_tensor) in enumerate(testLoader):\n",
    "        print(idx)\n",
    "        if idx == 6:\n",
    "            break\n",
    "        idx += 1\n",
    "        qsms = (qsms_tensor.to(device, dtype=torch.float) + trans) * scale\n",
    "        masks = masks_tensor.to(device, dtype=torch.float)\n",
    "        qsms = qsms * masks\n",
    "        x_mu, x_var, z_mu, z_logvar = vae3d(qsms)\n",
    "        \n",
    "        print(x_mu.mean())\n",
    "    \n",
    "#     qsms = np.asarray(qsms.cpu().detach())\n",
    "#     if qsms.min()/3 - 0.15 < qsm_min:\n",
    "#         qsm_min = qsms.min()\n",
    "    \n",
    "#     means = np.asarray(means.cpu().detach())\n",
    "#     stds = np.asarray(stds.cpu().detach())\n",
    "    \n",
    "#     patches_means.append(means)\n",
    "#     patches_stds.append(stds)\n",
    "    \n",
    "# patches_means = np.concatenate(patches_means, axis=0)\n",
    "# patches_stds = np.concatenate(patches_stds, axis=0)"
   ]
  },
  {
   "cell_type": "code",
   "execution_count": null,
   "metadata": {},
   "outputs": [],
   "source": [
    "qsms = np.asarray(qsms.cpu().detach())\n",
    "masks = np.asarray(masks.cpu().detach())\n",
    "x_mu = np.asarray(x_mu.cpu().detach())\n",
    "x_var = np.asarray(x_var.cpu().detach())"
   ]
  },
  {
   "cell_type": "code",
   "execution_count": null,
   "metadata": {},
   "outputs": [],
   "source": [
    "# plot\n",
    "slice_idx = 10\n",
    "idx_plot = np.random.choice(qsms.shape[0], size=(4, ), replace=False)\n",
    "plots(qsms[:, 0, ..., slice_idx][idx_plot, ...], rows=1, scale=(0, 3))\n",
    "plots(x_mu[:, 0, ..., slice_idx][idx_plot, ...], rows=1, scale=(0, 3))\n",
    "plots(x_var[:, 0, ..., slice_idx][idx_plot, ...], rows=1, scale=(1e-6, 5e-5))"
   ]
  },
  {
   "cell_type": "code",
   "execution_count": null,
   "metadata": {},
   "outputs": [],
   "source": [
    "qsms.min()"
   ]
  },
  {
   "cell_type": "code",
   "execution_count": null,
   "metadata": {},
   "outputs": [],
   "source": [
    "x_mu.shape"
   ]
  },
  {
   "cell_type": "code",
   "execution_count": null,
   "metadata": {},
   "outputs": [],
   "source": []
  },
  {
   "cell_type": "code",
   "execution_count": null,
   "metadata": {},
   "outputs": [],
   "source": [
    "QSM = reconstruct_patches(patches_means, dataLoader.volSize, extraction_step)\n",
    "STD = reconstruct_patches(patches_stds, dataLoader.volSize, extraction_step)"
   ]
  },
  {
   "cell_type": "code",
   "execution_count": null,
   "metadata": {},
   "outputs": [],
   "source": [
    "adict = {}\n",
    "adict['QSM'] = QSM\n",
    "sio.savemat('QSM.mat', adict)\n",
    "\n",
    "adict = {}\n",
    "adict['STD'] = STD\n",
    "sio.savemat('STD.mat', adict)"
   ]
  },
  {
   "cell_type": "code",
   "execution_count": null,
   "metadata": {},
   "outputs": [],
   "source": []
  }
 ],
 "metadata": {
  "kernelspec": {
   "display_name": "Python 3",
   "language": "python",
   "name": "python3"
  },
  "language_info": {
   "codemirror_mode": {
    "name": "ipython",
    "version": 3
   },
   "file_extension": ".py",
   "mimetype": "text/x-python",
   "name": "python",
   "nbconvert_exporter": "python",
   "pygments_lexer": "ipython3",
   "version": "3.7.4"
  }
 },
 "nbformat": 4,
 "nbformat_minor": 2
}
