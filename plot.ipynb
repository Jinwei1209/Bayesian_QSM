{
 "cells": [
  {
   "cell_type": "code",
   "execution_count": 3,
   "metadata": {},
   "outputs": [],
   "source": [
    "import os\n",
    "import time \n",
    "import numpy as np \n",
    "import torch\n",
    "import random\n",
    "import matplotlib.pyplot as plt\n",
    "from torch.utils import data\n",
    "from loader.QSM_data_loader2 import QSM_data_loader2\n",
    "from utils.data import *\n",
    "from utils.files import *\n",
    "from models.unet import Unet"
   ]
  },
  {
   "cell_type": "code",
   "execution_count": null,
   "metadata": {},
   "outputs": [],
   "source": [
    "os.environ['CUDA_VISIBLE_DEVICES'] = '0' \n",
    "dataLoader = QSM_data_loader2()\n",
    "trainLoader = data.DataLoader(dataLoader, batch_size=1, shuffle=False)"
   ]
  },
  {
   "cell_type": "code",
   "execution_count": null,
   "metadata": {},
   "outputs": [],
   "source": [
    "for idx, (input_RDFs, in_loss_RDFs, QSMs, Masks, \\\n",
    "    fidelity_Ws, gradient_Ws, flag_COSMOS) in enumerate(trainLoader):\n",
    "\n",
    "    input_RDFs = input_RDFs[0, ...]\n",
    "    in_loss_RDFs = in_loss_RDFs[0, ...]\n",
    "    QSMs = QSMs[0, ...]\n",
    "    Masks = Masks[0, ...]\n",
    "    fidelity_Ws = fidelity_Ws[0, ...]\n",
    "    gradient_Ws = gradient_Ws[0, ...]\n",
    "    \n",
    "    # asarray\n",
    "    input_RDFs = np.asarray(input_RDFs)\n",
    "    in_loss_RDFs = np.asarray(in_loss_RDFs)\n",
    "    QSMs = np.asarray(QSMs)\n",
    "    Masks = np.asarray(Masks)\n",
    "    fidelity_Ws = np.asarray(fidelity_Ws)\n",
    "    gradient_Ws = np.asarray(gradient_Ws)\n",
    "\n",
    "    print(flag_COSMOS)\n",
    "    print(input_RDFs.shape)"
   ]
  },
  {
   "cell_type": "code",
   "execution_count": null,
   "metadata": {},
   "outputs": [],
   "source": [
    "# plot\n",
    "slice_idx = 16\n",
    "idx_plot = np.random.choice(input_RDFs.shape[0], size=(4, ), replace=False)\n",
    "plots(input_RDFs[:, 0, ..., slice_idx][idx_plot, ...], rows=1, scale=(-0.1, 0.1))\n",
    "plots(in_loss_RDFs[:, 0, ..., slice_idx][idx_plot, ...], rows=1, scale=(-0.05, 0.05))\n",
    "plots(Masks[:, 0, ..., slice_idx][idx_plot, ...], rows=1, scale=(0, 1))\n",
    "plots(fidelity_Ws[:, 0, ..., slice_idx][idx_plot, ...], rows=1, scale=(0, 1))\n",
    "plots(QSMs[:, 0, ..., slice_idx][idx_plot, ...], rows=1, scale=(-0.15, 0.15))"
   ]
  },
  {
   "cell_type": "code",
   "execution_count": null,
   "metadata": {},
   "outputs": [],
   "source": [
    "plots(gradient_Ws[:, 0, ..., slice_idx, 0][idx_plot, ...], rows=1, scale=(0, 1))\n",
    "plots(gradient_Ws[:, 0, ..., slice_idx, 1][idx_plot, ...], rows=1, scale=(0, 1))\n",
    "plots(gradient_Ws[:, 0, ..., slice_idx, 2][idx_plot, ...], rows=1, scale=(0, 1))"
   ]
  },
  {
   "cell_type": "code",
   "execution_count": null,
   "metadata": {},
   "outputs": [],
   "source": []
  },
  {
   "cell_type": "markdown",
   "metadata": {},
   "source": [
    "## Plot for adversarial experiments"
   ]
  },
  {
   "cell_type": "code",
   "execution_count": 16,
   "metadata": {},
   "outputs": [],
   "source": [
    "import numpy as np\n",
    "import matplotlib.pyplot as plt"
   ]
  },
  {
   "cell_type": "code",
   "execution_count": 30,
   "metadata": {},
   "outputs": [],
   "source": [
    "loss = np.load('/data/Jinwei/Bayesian_QSM/loss_ICH_8.npy')\n",
    "# loss_amort = np.ones(loss.shape) * 15345431.312500  # ICH16\n",
    "loss_amort = np.ones(loss.shape) * 15388324.500000  # ICH8"
   ]
  },
  {
   "cell_type": "code",
   "execution_count": 31,
   "metadata": {},
   "outputs": [
    {
     "data": {
      "image/png": "[encoded data removed]",
      "text/plain": [
       "<Figure size 432x288 with 1 Axes>"
      ]
     },
     "metadata": {
      "needs_background": "light"
     },
     "output_type": "display_data"
    }
   ],
   "source": [
    "plt.plot(np.arange(100), loss, color='blue', linewidth=2, label='Subject-specific KLD')\n",
    "plt.plot(np.arange(100), loss_amort, color='red', linewidth=2, linestyle='dashed', label=\"Amortized KLD\")\n",
    "plt.legend()\n",
    "plt.ylabel('KLD')\n",
    "plt.xlabel('niters')\n",
    "plt.savefig(\"ich8.jpg\", dpi=150)"
   ]
  },
  {
   "cell_type": "code",
   "execution_count": null,
   "metadata": {},
   "outputs": [],
   "source": []
  }
 ],
 "metadata": {
  "kernelspec": {
   "display_name": "Python 3",
   "language": "python",
   "name": "python3"
  },
  "language_info": {
   "codemirror_mode": {
    "name": "ipython",
    "version": 3
   },
   "file_extension": ".py",
   "mimetype": "text/x-python",
   "name": "python",
   "nbconvert_exporter": "python",
   "pygments_lexer": "ipython3",
   "version": "3.7.4"
  }
 },
 "nbformat": 4,
 "nbformat_minor": 2
}
