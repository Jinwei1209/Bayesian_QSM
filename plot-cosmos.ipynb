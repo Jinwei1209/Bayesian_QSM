{
 "cells": [
  {
   "cell_type": "code",
   "execution_count": null,
   "metadata": {},
   "outputs": [],
   "source": [
    "import os\n",
    "import time \n",
    "import numpy as np \n",
    "import torch\n",
    "import torch.optim as optim\n",
    "import random\n",
    "from torch.utils import data\n",
    "from loader.COSMOS_data_loader import COSMOS_data_loader\n",
    "from models.unet import Unet\n",
    "from utils.train import BayesianQSM_train\n",
    "from utils.medi import *\n",
    "from utils.data import *\n",
    "from utils.files import *"
   ]
  },
  {
   "cell_type": "code",
   "execution_count": null,
   "metadata": {},
   "outputs": [],
   "source": [
    "os.environ['CUDA_VISIBLE_DEVICES'] = '1'\n",
    "device = torch.device('cuda' if torch.cuda.is_available() else 'cpu')\n",
    "rootDir = '/data/Jinwei/Bayesian_QSM/weight'"
   ]
  },
  {
   "cell_type": "code",
   "execution_count": null,
   "metadata": {},
   "outputs": [],
   "source": [
    "patchSize = (64, 64, 64)\n",
    "extraction_step = (21, 21, 21)"
   ]
  },
  {
   "cell_type": "code",
   "execution_count": null,
   "metadata": {},
   "outputs": [],
   "source": [
    "dataLoader = COSMOS_data_loader(\n",
    "    split='Test',\n",
    "    case_validation=7,\n",
    "    case_test = 6,\n",
    "    test_dir=2,\n",
    "    patchSize=patchSize, \n",
    "    extraction_step=extraction_step\n",
    ")\n",
    "testLoader = data.DataLoader(dataLoader, batch_size=1, shuffle=False)"
   ]
  },
  {
   "cell_type": "code",
   "execution_count": null,
   "metadata": {},
   "outputs": [],
   "source": [
    "unet3d = Unet(input_channels=1, output_channels=2, num_filters=[2**i for i in range(5, 10)])\n",
    "unet3d.to(device)\n",
    "unet3d.load_state_dict(torch.load(rootDir+'/weights.pt'))"
   ]
  },
  {
   "cell_type": "code",
   "execution_count": null,
   "metadata": {},
   "outputs": [],
   "source": [
    "patches_means, patches_stds = [], []\n",
    "for idx, (rdfs, masks, weights, qsms) in enumerate(testLoader):\n",
    "   \n",
    "    rdfs = rdfs.to(device)\n",
    "    means = unet3d(rdfs)[:, 0, ...]\n",
    "    stds = unet3d(rdfs)[:, 1, ...]\n",
    "    \n",
    "    means = np.asarray(means.cpu().detach())\n",
    "    stds = np.asarray(stds.cpu().detach())\n",
    "    \n",
    "    patches_means.append(means)\n",
    "    patches_stds.append(stds)\n",
    "    \n",
    "patches_means = np.concatenate(patches_means, axis=0)\n",
    "patches_stds = np.concatenate(patches_stds, axis=0)"
   ]
  },
  {
   "cell_type": "code",
   "execution_count": null,
   "metadata": {},
   "outputs": [],
   "source": [
    "QSM = reconstruct_patches(patches_means, dataLoader.volSize, extraction_step)\n",
    "STD = reconstruct_patches(patches_stds, dataLoader.volSize, extraction_step)"
   ]
  },
  {
   "cell_type": "code",
   "execution_count": null,
   "metadata": {},
   "outputs": [],
   "source": [
    "adict = {}\n",
    "adict['QSM'] = QSM\n",
    "sio.savemat('QSM.mat', adict)\n",
    "\n",
    "adict = {}\n",
    "adict['STD'] = STD\n",
    "sio.savemat('STD.mat', adict)"
   ]
  },
  {
   "cell_type": "code",
   "execution_count": null,
   "metadata": {},
   "outputs": [],
   "source": []
  }
 ],
 "metadata": {
  "kernelspec": {
   "display_name": "Python 3",
   "language": "python",
   "name": "python3"
  },
  "language_info": {
   "codemirror_mode": {
    "name": "ipython",
    "version": 3
   },
   "file_extension": ".py",
   "mimetype": "text/x-python",
   "name": "python",
   "nbconvert_exporter": "python",
   "pygments_lexer": "ipython3",
   "version": "3.7.3"
  }
 },
 "nbformat": 4,
 "nbformat_minor": 2
}
