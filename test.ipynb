{
 "cells": [
  {
   "cell_type": "code",
   "execution_count": null,
   "metadata": {},
   "outputs": [],
   "source": [
    "import os\n",
    "import time \n",
    "import numpy as np \n",
    "import torch\n",
    "import random\n",
    "import matplotlib.pyplot as plt\n",
    "from torch.utils import data\n",
    "from loader.QSM_data_loader2 import QSM_data_loader2\n",
    "from utils.data import *\n",
    "from utils.files import *\n",
    "from models.unet import Unet"
   ]
  },
  {
   "cell_type": "code",
   "execution_count": null,
   "metadata": {},
   "outputs": [],
   "source": [
    "? python"
   ]
  },
  {
   "cell_type": "code",
   "execution_count": null,
   "metadata": {},
   "outputs": [],
   "source": [
    "import nibabel"
   ]
  },
  {
   "cell_type": "code",
   "execution_count": null,
   "metadata": {},
   "outputs": [],
   "source": [
    "GPU = 2"
   ]
  },
  {
   "cell_type": "code",
   "execution_count": null,
   "metadata": {},
   "outputs": [],
   "source": [
    "if GPU == 1:\n",
    "    FD_DATA = '/home/sdc/Jinwei/QSM/1*1*3recon/ms1' # GPU 1\n",
    "    rootDir = '/home/sdc/Jinwei/BayesianQSM'\n",
    "elif GPU == 2:\n",
    "    FD_DATA = '/data/Jinwei/Bayesian_QSM/20190523_BayesianQSM_dataset/1_1_3recon/ms2' # GPU 2\n",
    "    rootDir = '/data/Jinwei/Bayesian_QSM/weight'\n",
    "    \n",
    "factor = 3.9034\n",
    "filename = '{0}/RDF.mat'.format(FD_DATA)\n",
    "RDF = np.real(load_mat(filename, varname='RDF'))/factor\n",
    "\n",
    "filename = '{0}/Mask.mat'.format(FD_DATA)\n",
    "Mask = np.real(load_mat(filename, varname='Mask'))"
   ]
  },
  {
   "cell_type": "code",
   "execution_count": null,
   "metadata": {},
   "outputs": [],
   "source": [
    "os.environ['CUDA_VISIBLE_DEVICES'] = '1'\n",
    "device = torch.device('cuda' if torch.cuda.is_available() else 'cpu')"
   ]
  },
  {
   "cell_type": "code",
   "execution_count": null,
   "metadata": {},
   "outputs": [],
   "source": [
    "unet3d = Unet(input_channels=1, output_channels=2, num_filters=[2**i for i in range(5, 10)])\n",
    "unet3d.to(device)\n",
    "unet3d.load_state_dict(torch.load(rootDir+'/weights.pt'))\n",
    "unet3d.eval()"
   ]
  },
  {
   "cell_type": "code",
   "execution_count": null,
   "metadata": {},
   "outputs": [],
   "source": [
    "RDF = torch.tensor(RDF[np.newaxis, np.newaxis, ...], device=device).float()\n",
    "outputs = unet3d(RDF)"
   ]
  },
  {
   "cell_type": "code",
   "execution_count": null,
   "metadata": {},
   "outputs": [],
   "source": [
    "pred_mean = outputs[0, 0, ...]\n",
    "pred_var = outputs[0, 1, ...]"
   ]
  },
  {
   "cell_type": "code",
   "execution_count": null,
   "metadata": {},
   "outputs": [],
   "source": [
    "pred_mean = np.asarray(pred_mean.cpu().detach())\n",
    "pred_var = np.asarray(pred_var.cpu().detach())"
   ]
  },
  {
   "cell_type": "code",
   "execution_count": null,
   "metadata": {},
   "outputs": [],
   "source": [
    "idx = 25\n",
    "\n",
    "plt.imshow(pred_mean[:,:,idx]*Mask[:,:,idx], cmap='Greys_r', clim=(-0.15,0.15))\n",
    "plt.axis('off')\n",
    "plt.show()\n",
    "\n",
    "plt.imshow(np.exp(pred_var[:,:,idx]/2)*Mask[:,:,idx], cmap='Greys_r')\n",
    "plt.axis('off')\n",
    "plt.show()"
   ]
  },
  {
   "cell_type": "code",
   "execution_count": null,
   "metadata": {},
   "outputs": [],
   "source": []
  },
  {
   "cell_type": "code",
   "execution_count": null,
   "metadata": {},
   "outputs": [],
   "source": []
  }
 ],
 "metadata": {
  "kernelspec": {
   "display_name": "Python 3",
   "language": "python",
   "name": "python3"
  },
  "language_info": {
   "codemirror_mode": {
    "name": "ipython",
    "version": 3
   },
   "file_extension": ".py",
   "mimetype": "text/x-python",
   "name": "python",
   "nbconvert_exporter": "python",
   "pygments_lexer": "ipython3",
   "version": "3.7.3"
  }
 },
 "nbformat": 4,
 "nbformat_minor": 2
}
